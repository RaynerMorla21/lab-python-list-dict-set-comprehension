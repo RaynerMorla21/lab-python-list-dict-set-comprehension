{
 "cells": [
  {
   "cell_type": "markdown",
   "id": "25d7736c-ba17-4aff-b6bb-66eba20fbf4e",
   "metadata": {},
   "source": [
    "# Lab | List, Dict and Set Comprehension"
   ]
  },
  {
   "cell_type": "markdown",
   "id": "7dd3cbde-675a-4b81-92c3-f728846dbe06",
   "metadata": {},
   "source": [
    "## Exercise: Managing Customer Orders Optimized with Comprehension"
   ]
  },
  {
   "cell_type": "markdown",
   "id": "5d500160-2fb7-4777-b5e4-09d45ebaf328",
   "metadata": {},
   "source": [
    "In the previous exercise, you developed a program to manage customer orders and inventory. Now, let's take it a step further and incorporate comprehension into your code.\n",
    "\n",
    "Follow the steps below to complete the exercise:\n",
    "\n",
    "1. Review your code from the previous exercise and identify areas where you can apply comprehension to simplify and streamline your code. \n",
    "\n",
    "    - *Hint: Apply it to initialize inventory, updating the inventory and printing the updated inventory.*\n",
    "    \n",
    "    - For example, in initializing the inventory, we could have:\n",
    "    \n",
    "        ```python\n",
    "        def initialize_inventory(products):\n",
    "            inventory = {product: int(input(f\"Enter the quantity of {product}s available: \")) for product in products}\n",
    "            return inventory\n",
    "\n",
    "        ```\n",
    "<br>\n",
    "    \n",
    "    \n",
    "2. Modify the function get_customer_orders so it prompts the user to enter the number of customer orders and gathers the product names using a loop and user input. Use comprehension.\n",
    "\n",
    "3. Add a new function to calculate the total price of the customer order. For each product in customer_orders, prompt the user to enter the price of that product. Use comprehension to calculate the total price. Note: assume that the user can only have 1 unit of each product.\n",
    "\n",
    "4. Modify the update_inventory function to remove the product from the inventory if its quantity becomes zero after fulfilling the customer orders. Use comprehension to filter out the products with a quantity of zero from the inventory.\n",
    "\n",
    "5. Print the total price of the customer order.\n",
    "\n",
    "Your code should produce output similar to the following:\n",
    "\n",
    "```python\n",
    "Enter the quantity of t-shirts available:  5\n",
    "Enter the quantity of mugs available:  4\n",
    "Enter the quantity of hats available:  3\n",
    "Enter the quantity of books available:  2\n",
    "Enter the quantity of keychains available:  1\n",
    "Enter the number of customer orders:  2\n",
    "Enter the name of a product that a customer wants to order:  hat\n",
    "Enter the name of a product that a customer wants to order:  keychain\n",
    "\n",
    "Order Statistics:\n",
    "Total Products Ordered: 2\n",
    "Percentage of Unique Products Ordered: 40.0\n",
    "\n",
    "Updated Inventory:\n",
    "t-shirt: 5\n",
    "mug: 4\n",
    "hat: 2\n",
    "book: 2\n",
    "Enter the price of keychain:  5\n",
    "Enter the price of hat:  10\n",
    "Total Price: 15.0\n",
    "\n",
    "```\n"
   ]
  },
  {
   "cell_type": "code",
   "execution_count": null,
   "id": "5d620de5-312e-4b98-a586-d3aef0775e50",
   "metadata": {},
   "outputs": [],
   "source": [
    "#Review your code from the previous exercise and identify areas where you can apply comprehension to simplify and streamline your code.\n",
    "\n",
    "#Hint: Apply it to initialize inventory, updating the inventory and printing the updated inventory.\"\n",
    "\n",
    "For example, in initializing the inventory, we could have:\n",
    "\n",
    "def initialize_inventory(products):\n",
    "    inventory = {product: int(input(f\"Enter the quantity of {product}s available: \")) for product in products}\n",
    "    return inventory\n",
    "\n"
   ]
  },
  {
   "cell_type": "code",
   "execution_count": 1,
   "id": "344f8c9b-d710-4af6-8165-8aa545026c92",
   "metadata": {},
   "outputs": [],
   "source": [
    "def initialize_inventory(products):\n",
    "    inventory = {product: int(input(f\"Enter the quantity of {product}s available: \")) for product in products}\n",
    "    return inventory"
   ]
  },
  {
   "cell_type": "code",
   "execution_count": null,
   "id": "d4345afb-0d90-42b8-9760-9e056b886ba3",
   "metadata": {},
   "outputs": [],
   "source": [
    "#Modify the function get_customer_orders so it prompts the user to enter the number of customer orders\n",
    "and gathers the product names using a loop and user input.\n",
    "Use comprehension."
   ]
  },
  {
   "cell_type": "code",
   "execution_count": 2,
   "id": "1b7b7038-b0e8-476c-83f6-5626138bbb89",
   "metadata": {},
   "outputs": [],
   "source": [
    "def get_customer_orders():\n",
    "    num_orders = int(input(\"Enter the number of customer orders: \"))\n",
    "    customer_orders = [input(\"Enter the name of a product that a customer wants to order: \") for _ in range(num_orders)]\n",
    "    return customer_orders"
   ]
  },
  {
   "cell_type": "markdown",
   "id": "ceb38ae2-307d-4b68-b423-5af63ddfadf9",
   "metadata": {},
   "source": [
    "Add a new function to calculate the total price of the customer order.\n",
    "For each product in customer_orders, prompt the user to enter the price of that product. Use comprehension to calculate the total price.\n",
    "Note: assume that the user can only have 1 unit of each product."
   ]
  },
  {
   "cell_type": "code",
   "execution_count": 3,
   "id": "01d7db70-dd77-4d86-9c42-97fe21e8dafa",
   "metadata": {},
   "outputs": [],
   "source": [
    "def calculate_total_price(customer_orders):\n",
    "    prices = [float(input(f\"Enter the price of {product}: \")) for product in customer_orders]\n",
    "    return sum(prices)"
   ]
  },
  {
   "cell_type": "markdown",
   "id": "9c89c8fa-60aa-4f5e-907e-70e8343a3c6b",
   "metadata": {},
   "source": [
    "Modify the update_inventory function to remove the product from the inventory\n",
    "if its quantity becomes zero after fulfilling the customer orders.\n",
    "Use comprehension to filter out the products with a quantity of zero from the inventory"
   ]
  },
  {
   "cell_type": "code",
   "execution_count": 4,
   "id": "0be3609c-c293-4832-bb31-d991aaf79ab4",
   "metadata": {},
   "outputs": [],
   "source": [
    "def update_inventory(customer_orders, inventory):\n",
    "    for product in customer_orders:\n",
    "        inventory[product] -= 1\n",
    "    inventory = {product: quantity for product, quantity in inventory.items() if quantity > 0}\n",
    "    return inventory"
   ]
  },
  {
   "cell_type": "markdown",
   "id": "473a4fd5-2a39-4ef9-a672-ea6abb1a1191",
   "metadata": {},
   "source": [
    "Print the total price of the customer order"
   ]
  },
  {
   "cell_type": "code",
   "execution_count": 5,
   "id": "4081caef-1d91-4f9e-bf99-84ca02bf9d12",
   "metadata": {},
   "outputs": [],
   "source": [
    "def print_order_statistics(total_products_ordered, percentage_ordered, total_price):\n",
    "    print(\"\\nOrder Statistics:\")\n",
    "    print(\"Total Products Ordered:\", total_products_ordered)\n",
    "    print(\"Percentage of Unique Products Ordered:\", percentage_ordered)\n",
    "    print(\"\\nUpdated Inventory:\")\n",
    "    for product, quantity in inventory.items():\n",
    "        print(product + \":\", quantity)\n",
    "    print(\"\\nTotal Price:\", total_price)"
   ]
  },
  {
   "cell_type": "code",
   "execution_count": null,
   "id": "8563a165-fc71-4bf2-8d7b-0e03116bb751",
   "metadata": {},
   "outputs": [],
   "source": []
  }
 ],
 "metadata": {
  "kernelspec": {
   "display_name": "Python 3 (ipykernel)",
   "language": "python",
   "name": "python3"
  },
  "language_info": {
   "codemirror_mode": {
    "name": "ipython",
    "version": 3
   },
   "file_extension": ".py",
   "mimetype": "text/x-python",
   "name": "python",
   "nbconvert_exporter": "python",
   "pygments_lexer": "ipython3",
   "version": "3.11.7"
  }
 },
 "nbformat": 4,
 "nbformat_minor": 5
}
